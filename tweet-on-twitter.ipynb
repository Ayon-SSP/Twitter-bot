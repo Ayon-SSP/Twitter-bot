{
 "cells": [
  {
   "cell_type": "code",
   "execution_count": 1,
   "metadata": {},
   "outputs": [],
   "source": [
    "import tweepy\n",
    "import time\n",
    "import sys\n",
    "sys.path.append('../../ChatGPT-Twitter-Bot/')\n",
    "from credentials import *"
   ]
  },
  {
   "cell_type": "code",
   "execution_count": 2,
   "metadata": {},
   "outputs": [],
   "source": [
    "api_key = API_KEY\n",
    "api_secret = API_KEY_SECRET\n",
    "bearer_token = BEARER_TOKEN\n",
    "access_token = ACCESS_TOKEN\n",
    "access_token_secret = SECRET_ACCESS_TOKEN"
   ]
  },
  {
   "cell_type": "code",
   "execution_count": 3,
   "metadata": {},
   "outputs": [],
   "source": [
    "client = tweepy.Client(bearer_token, api_key, api_secret, access_token, access_token_secret)\n",
    "auth = tweepy.OAuth1UserHandler(api_key, api_secret, access_token, access_token_secret)\n",
    "api = tweepy.API(auth)"
   ]
  },
  {
   "cell_type": "code",
   "execution_count": null,
   "metadata": {},
   "outputs": [],
   "source": [
    "client.create_tweet(text = \"Twitter Bot Test\")"
   ]
  },
  {
   "cell_type": "code",
   "execution_count": null,
   "metadata": {},
   "outputs": [],
   "source": [
    "client.like(\"1630226622132412416\")"
   ]
  },
  {
   "cell_type": "code",
   "execution_count": null,
   "metadata": {},
   "outputs": [],
   "source": [
    "client.unlike(\"1627965782759030786\")"
   ]
  },
  {
   "cell_type": "code",
   "execution_count": null,
   "metadata": {},
   "outputs": [],
   "source": [
    "client.retweet(\"1630226622132412416\")"
   ]
  },
  {
   "cell_type": "code",
   "execution_count": null,
   "metadata": {},
   "outputs": [],
   "source": [
    "client.create_tweet(in_reply_to_tweet_id=\"1627965782759030786\", text = \"Wow!\")"
   ]
  },
  {
   "cell_type": "code",
   "execution_count": null,
   "metadata": {},
   "outputs": [],
   "source": []
  },
  {
   "cell_type": "code",
   "execution_count": null,
   "metadata": {},
   "outputs": [],
   "source": [
    "tweet.favorite()"
   ]
  },
  {
   "cell_type": "code",
   "execution_count": null,
   "metadata": {},
   "outputs": [],
   "source": [
    "for tweet in api.home_timeline():\n",
    "    print(tweet.text)"
   ]
  },
  {
   "cell_type": "code",
   "execution_count": 9,
   "metadata": {},
   "outputs": [
    {
     "name": "stdout",
     "output_type": "stream",
     "text": [
      "Continue to follow us @linuxopsys for more amazing Linux cheats sheets!\n",
      "Cron cheatsheet for Linux sysadmins 👇 https://t.co/fbdvDucMeM\n",
      "👋 Hello everyone\n",
      "\n",
      "We tweet about the following:\n",
      "\n",
      "🐧 Linux\n",
      "🐧 Linux commands\n",
      "🐧 Linux Tips\n",
      "🐧 Shell Scripting\n",
      "🐧 Bash Tips\n",
      "🐧 Linux cheatsheets\n",
      "🐧 Sysadmin\n",
      "🐧Tips for those who are unfamiliar with Linux\n",
      "🐧 More Linux stuff and resources\n",
      "🐧🐧🐧🐧🐧🐧🐧🐧🐧🐧🐧🐧🐧🐧🐧🐧\n",
      "That concludes today's thread! Thank you for reading! \n",
      "\n",
      "If you enjoyed this thread and found it useful, please follow us (@linuxopsys) for more Linux, sysadmin, and devops content!.\n",
      "\n",
      "Make sure to include some text manipulation commands; I'd love to know them as well.\n",
      "Here is a quick example, let's say we want to display all the user shells in the / etc/passwd file. https://t.co/EB6FP6sF7U\n",
      "16. cut 🐧\n",
      "\n",
      "The cut command can be used to  remove/extract bytes, characters, and fields from files. Various parameters are used to specify what part or parts of the file are to be removed or displayed.\n",
      "15. diff 🐧\n",
      "\n",
      "The diff command simply compares two text sources/text files and outputs their differences. It compares the files line by line to find the differences. https://t.co/QdT9294Wtl\n",
      "Grep has a lot of useful switches that I won't go over here, but if you want to learn more about this handy utility, check out the grep man pages.\n",
      "14. grep 🐧\n",
      "\n",
      "The grep command is one of  the most common text processing command you will use. It allows you to search files for characters that match a certain pattern. https://t.co/rQiNYubrj0\n",
      "13. nl 🐧\n",
      "\n",
      "Another command you can use to check the count of lines on a file is the nl (number lines) command. It displays contents of a file along with line numbers. This command is equivalent to the 'cat -s' command. https://t.co/A8Ntq7jRWX\n"
     ]
    }
   ],
   "source": [
    "person = client.get_user(username = \"linuxopsys\").data.id\n",
    "for tweet in client.get_users_tweets(person).data:\n",
    "    print(tweet.text)"
   ]
  },
  {
   "cell_type": "code",
   "execution_count": null,
   "metadata": {},
   "outputs": [],
   "source": [
    "# KEY_Word = \"python\"\n",
    "KEY_Word = \"Django OR #jobs\"\n",
    "class MyStream(tweepy.StreamingClient):\n",
    "    def on_tweet(self, tweet):\n",
    "        print(tweet.text)\n",
    "\n",
    "        try:\n",
    "            # client.retweet(tweet.id)\n",
    "            print(\"Retweeted the tweet\")\n",
    "\n",
    "        except Exception as error:\n",
    "            print(error)\n",
    "\n",
    "stream = MyStream(bearer_token = bearer_token)\n",
    "\n",
    "rule = tweepy.StreamRule(f\"({KEY_Word})(-is:retweet -is:reply)\" )\n",
    "stream.add_rules(rule)\n",
    "stream.filter()"
   ]
  },
  {
   "cell_type": "code",
   "execution_count": null,
   "metadata": {},
   "outputs": [],
   "source": [
    "class MyStream(tweepy.StreamingClient):\n",
    "    def on_tweet(self, tweet):\n",
    "        print(tweet.text)\n",
    "        try:\n",
    "            client.like(tweet.id)\n",
    "            print(tweet.id)\n",
    "\n",
    "        except Exception as error:\n",
    "            print(error)\n",
    "\n",
    "        time.sleep(1)\n",
    "\n",
    "\n",
    "stream = MyStream(bearer_token = bearer_token)\n",
    "rule = tweepy.StreamRule(\"(Node OR #python)(-is:retweet -is:reply)\" )\n",
    "stream.add_rules(rule)\n",
    "stream.filter()"
   ]
  }
 ],
 "metadata": {
  "kernelspec": {
   "display_name": "Python 3",
   "language": "python",
   "name": "python3"
  },
  "language_info": {
   "codemirror_mode": {
    "name": "ipython",
    "version": 3
   },
   "file_extension": ".py",
   "mimetype": "text/x-python",
   "name": "python",
   "nbconvert_exporter": "python",
   "pygments_lexer": "ipython3",
   "version": "3.8.10"
  },
  "orig_nbformat": 4,
  "vscode": {
   "interpreter": {
    "hash": "916dbcbb3f70747c44a77c7bcd40155683ae19c65e1c03b4aa3499c5328201f1"
   }
  }
 },
 "nbformat": 4,
 "nbformat_minor": 2
}
